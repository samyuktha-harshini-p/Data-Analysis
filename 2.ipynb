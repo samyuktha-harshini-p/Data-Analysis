{
 "cells": [
  {
   "cell_type": "code",
   "execution_count": 4,
   "metadata": {},
   "outputs": [
    {
     "name": "stdout",
     "output_type": "stream",
     "text": [
      "       Year of Birth  Gender           Ethnicity Child's First Name  Count  \\\n",
      "0               2011  Female            Hispanic          Geraldine     13   \n",
      "1               2011  Female            Hispanic                Gia     21   \n",
      "2               2011  Female            Hispanic             Gianna     49   \n",
      "3               2011  Female            Hispanic            Giselle     38   \n",
      "4               2011  Female            Hispanic              Grace     36   \n",
      "...              ...     ...                 ...                ...    ...   \n",
      "18048           2018  Female  Black non hispanic               Nala     10   \n",
      "18049           2018  Female  Black non hispanic            Royalty     10   \n",
      "18050           2018  Female  Black non hispanic            Sariyah     10   \n",
      "18051           2018  Female  Black non hispanic             Simone     10   \n",
      "18052           2018  Female  Black non hispanic              Zahra     10   \n",
      "\n",
      "       Rank  \n",
      "0        75  \n",
      "1        67  \n",
      "2        42  \n",
      "3        51  \n",
      "4        53  \n",
      "...     ...  \n",
      "18048    40  \n",
      "18049    40  \n",
      "18050    40  \n",
      "18051    40  \n",
      "18052    40  \n",
      "\n",
      "[18053 rows x 6 columns]\n"
     ]
    }
   ],
   "source": [
    "#Importing the necessary Libraries\n",
    "import pandas as pd\n",
    "import matplotlib.pyplot as plt\n",
    "import seaborn as sns\n",
    "\n",
    "#Loading the csv as a dataframe\n",
    "data = pd.read_csv('df_no_duplicates.csv')\n",
    "print(data)"
   ]
  },
  {
   "cell_type": "code",
   "execution_count": 14,
   "metadata": {},
   "outputs": [
    {
     "name": "stdout",
     "output_type": "stream",
     "text": [
      "<pandas.core.groupby.generic.DataFrameGroupBy object at 0x000002640EC8FED0>\n",
      "Names that shifted from Female to Male: []\n",
      "Names that shifted from Male to Female: []\n"
     ]
    }
   ],
   "source": [
    "# Group the data by name and gender\n",
    "name_gender_groups = data.groupby([\"Child's First Name\", 'Gender'])\n",
    "\n",
    "# Create empty lists to store names that change gender association\n",
    "female_to_male = []\n",
    "male_to_female = []\n",
    "\n",
    "print(name_gender_groups)\n",
    "# Loop through each name-gender group\n",
    "for name_gender, data in name_gender_groups:\n",
    "    if len(data) > 1:  # Check if the name has data for multiple genders\n",
    "        # Get the counts for each gender\n",
    "        counts = data['Count']\n",
    "        # Check if counts for male and female are significant\n",
    "        if 'Female' in counts.index and 'Male' in counts.index:\n",
    "            if counts['Female'].sum() > 0 and counts['Male'].sum() > 0:\n",
    "                # Compare counts and identify gender shifts\n",
    "                if counts['Female'].sum() > counts['Male'].sum():\n",
    "                    female_to_male.append(name_gender)\n",
    "                else:\n",
    "                    male_to_female.append(name_gender)\n",
    "\n",
    "# Print names that shifted from female to male and vice versa\n",
    "print(\"Names that shifted from Female to Male:\", female_to_male)\n",
    "print(\"Names that shifted from Male to Female:\", male_to_female)"
   ]
  },
  {
   "cell_type": "code",
   "execution_count": 15,
   "metadata": {},
   "outputs": [
    {
     "name": "stdout",
     "output_type": "stream",
     "text": [
      "['Zyaire']\n"
     ]
    }
   ],
   "source": [
    "# Group by 'Child's First Name' and count unique occurrences for each gender\n",
    "gender_counts = data.groupby([\"Child's First Name\", 'Gender']).size().unstack()\n",
    "\n",
    "# Find names that appear for both female and male genders\n",
    "names_both_genders = gender_counts.dropna().index.tolist()\n",
    "\n",
    "print(names_both_genders)"
   ]
  },
  {
   "cell_type": "code",
   "execution_count": 21,
   "metadata": {},
   "outputs": [
    {
     "name": "stdout",
     "output_type": "stream",
     "text": [
      "Names that appear for both genders:\n",
      "Gender              Female  Male\n",
      "Child's First Name              \n",
      "Alexis                19.0   9.0\n",
      "Angel                 12.0  12.0\n",
      "Ariel                 28.0  18.0\n",
      "Avery                 32.0  25.0\n",
      "Blake                  7.0  17.0\n",
      "Cameron                2.0  32.0\n",
      "Charlie                7.0  13.0\n",
      "Dylan                 10.0  36.0\n",
      "Eden                  14.0   8.0\n",
      "Elliott                1.0   9.0\n",
      "Emerson                9.0   2.0\n",
      "Finley                 3.0   1.0\n",
      "Jamie                  4.0   1.0\n",
      "Jaylin                 8.0   1.0\n",
      "Jia                    1.0   1.0\n",
      "Jordan                 7.0  35.0\n",
      "Kai                    1.0  32.0\n",
      "Logan                  3.0  36.0\n",
      "Milan                  9.0  10.0\n",
      "Nana                   1.0   1.0\n",
      "Parker                 5.0  11.0\n",
      "Peyton                22.0   5.0\n",
      "Phoenix                7.0   2.0\n",
      "Quinn                  9.0   8.0\n",
      "Remy                   2.0   2.0\n",
      "Riley                 33.0  13.0\n",
      "Rowan                  3.0   9.0\n",
      "Royal                  2.0   3.0\n",
      "Ryan                   6.0  36.0\n",
      "Sage                   6.0   1.0\n",
      "Shea                   1.0   8.0\n",
      "Shiloh                 4.0   1.0\n",
      "Skyler                 5.0   4.0\n",
      "Taylor                23.0   2.0\n",
      "Tenzin                 9.0   9.0\n",
      "Yael                   9.0   2.0\n"
     ]
    }
   ],
   "source": [
    "# Grouping names by gender and counting occurrences\n",
    "name_counts = data.groupby([\"Child's First Name\", 'Gender']).size().unstack()\n",
    "\n",
    "# Printing names that appear for both genders and their counts\n",
    "both_genders = name_counts.dropna()\n",
    "print(\"Names that appear for both genders:\")\n",
    "print(both_genders)\n"
   ]
  },
  {
   "cell_type": "code",
   "execution_count": 23,
   "metadata": {},
   "outputs": [
    {
     "name": "stdout",
     "output_type": "stream",
     "text": [
      "0        2011\n",
      "1        2011\n",
      "2        2011\n",
      "3        2011\n",
      "4        2011\n",
      "         ... \n",
      "18048    2018\n",
      "18049    2018\n",
      "18050    2018\n",
      "18051    2018\n",
      "18052    2018\n",
      "Name: Year of Birth, Length: 18053, dtype: int64\n"
     ]
    }
   ],
   "source": [
    "print(data[\"Year of Birth\"])"
   ]
  },
  {
   "cell_type": "code",
   "execution_count": 35,
   "metadata": {},
   "outputs": [
    {
     "data": {
      "text/html": [
       "<div>\n",
       "<style scoped>\n",
       "    .dataframe tbody tr th:only-of-type {\n",
       "        vertical-align: middle;\n",
       "    }\n",
       "\n",
       "    .dataframe tbody tr th {\n",
       "        vertical-align: top;\n",
       "    }\n",
       "\n",
       "    .dataframe thead th {\n",
       "        text-align: right;\n",
       "    }\n",
       "</style>\n",
       "<table border=\"1\" class=\"dataframe\">\n",
       "  <thead>\n",
       "    <tr style=\"text-align: right;\">\n",
       "      <th></th>\n",
       "      <th>Year of Birth</th>\n",
       "      <th>Gender</th>\n",
       "      <th>Ethnicity</th>\n",
       "      <th>Child's First Name</th>\n",
       "      <th>Count</th>\n",
       "      <th>Rank</th>\n",
       "    </tr>\n",
       "  </thead>\n",
       "  <tbody>\n",
       "    <tr>\n",
       "      <th>1974</th>\n",
       "      <td>2012</td>\n",
       "      <td>Female</td>\n",
       "      <td>Asian and pacific islanders</td>\n",
       "      <td>Alexis</td>\n",
       "      <td>18</td>\n",
       "      <td>37</td>\n",
       "    </tr>\n",
       "    <tr>\n",
       "      <th>11372</th>\n",
       "      <td>2015</td>\n",
       "      <td>Female</td>\n",
       "      <td>Asian and pacific islanders</td>\n",
       "      <td>Alexis</td>\n",
       "      <td>12</td>\n",
       "      <td>41</td>\n",
       "    </tr>\n",
       "    <tr>\n",
       "      <th>1112</th>\n",
       "      <td>2011</td>\n",
       "      <td>Female</td>\n",
       "      <td>Black non hispanic</td>\n",
       "      <td>Alexis</td>\n",
       "      <td>13</td>\n",
       "      <td>42</td>\n",
       "    </tr>\n",
       "    <tr>\n",
       "      <th>2205</th>\n",
       "      <td>2012</td>\n",
       "      <td>Female</td>\n",
       "      <td>Black non hispanic</td>\n",
       "      <td>Alexis</td>\n",
       "      <td>12</td>\n",
       "      <td>45</td>\n",
       "    </tr>\n",
       "    <tr>\n",
       "      <th>4540</th>\n",
       "      <td>2013</td>\n",
       "      <td>Female</td>\n",
       "      <td>Black non hispanic</td>\n",
       "      <td>Alexis</td>\n",
       "      <td>12</td>\n",
       "      <td>45</td>\n",
       "    </tr>\n",
       "    <tr>\n",
       "      <th>...</th>\n",
       "      <td>...</td>\n",
       "      <td>...</td>\n",
       "      <td>...</td>\n",
       "      <td>...</td>\n",
       "      <td>...</td>\n",
       "      <td>...</td>\n",
       "    </tr>\n",
       "    <tr>\n",
       "      <th>8911</th>\n",
       "      <td>2017</td>\n",
       "      <td>Female</td>\n",
       "      <td>White non hispanic</td>\n",
       "      <td>Yael</td>\n",
       "      <td>20</td>\n",
       "      <td>74</td>\n",
       "    </tr>\n",
       "    <tr>\n",
       "      <th>11665</th>\n",
       "      <td>2015</td>\n",
       "      <td>Female</td>\n",
       "      <td>White non hispanic</td>\n",
       "      <td>Yael</td>\n",
       "      <td>19</td>\n",
       "      <td>74</td>\n",
       "    </tr>\n",
       "    <tr>\n",
       "      <th>11937</th>\n",
       "      <td>2016</td>\n",
       "      <td>Female</td>\n",
       "      <td>White non hispanic</td>\n",
       "      <td>Yael</td>\n",
       "      <td>20</td>\n",
       "      <td>74</td>\n",
       "    </tr>\n",
       "    <tr>\n",
       "      <th>15551</th>\n",
       "      <td>2019</td>\n",
       "      <td>Female</td>\n",
       "      <td>White non hispanic</td>\n",
       "      <td>Yael</td>\n",
       "      <td>22</td>\n",
       "      <td>72</td>\n",
       "    </tr>\n",
       "    <tr>\n",
       "      <th>17617</th>\n",
       "      <td>2018</td>\n",
       "      <td>Female</td>\n",
       "      <td>White non hispanic</td>\n",
       "      <td>Yael</td>\n",
       "      <td>14</td>\n",
       "      <td>81</td>\n",
       "    </tr>\n",
       "  </tbody>\n",
       "</table>\n",
       "<p>739 rows × 6 columns</p>\n",
       "</div>"
      ],
      "text/plain": [
       "      Year of Birth  Gender                    Ethnicity Child's First Name  \\\n",
       "1974           2012  Female  Asian and pacific islanders             Alexis   \n",
       "11372          2015  Female  Asian and pacific islanders             Alexis   \n",
       "1112           2011  Female           Black non hispanic             Alexis   \n",
       "2205           2012  Female           Black non hispanic             Alexis   \n",
       "4540           2013  Female           Black non hispanic             Alexis   \n",
       "...             ...     ...                          ...                ...   \n",
       "8911           2017  Female           White non hispanic               Yael   \n",
       "11665          2015  Female           White non hispanic               Yael   \n",
       "11937          2016  Female           White non hispanic               Yael   \n",
       "15551          2019  Female           White non hispanic               Yael   \n",
       "17617          2018  Female           White non hispanic               Yael   \n",
       "\n",
       "       Count  Rank  \n",
       "1974      18    37  \n",
       "11372     12    41  \n",
       "1112      13    42  \n",
       "2205      12    45  \n",
       "4540      12    45  \n",
       "...      ...   ...  \n",
       "8911      20    74  \n",
       "11665     19    74  \n",
       "11937     20    74  \n",
       "15551     22    72  \n",
       "17617     14    81  \n",
       "\n",
       "[739 rows x 6 columns]"
      ]
     },
     "execution_count": 35,
     "metadata": {},
     "output_type": "execute_result"
    }
   ],
   "source": [
    "selected_names = ['Alexis', 'Angel', 'Ariel', 'Avery', 'Blake', 'Cameron', 'Charlie', 'Dylan', 'Eden', 'Elliott', 'Emerson', 'Finley', 'Jamie', 'Jaylin', 'Jia', 'Jordan', 'Kai', 'Logan', 'Milan', 'Nana', 'Parker', 'Peyton', 'Phoenix', 'Quinn', 'Remy', 'Riley', 'Rowan', 'Royal', 'Ryan', 'Sage', 'Shea', 'Shiloh', 'Skyler', 'Taylor', 'Tenzin', 'Yael']\n",
    "data['Year of Birth'] = data['Year of Birth'].astype(str)\n",
    "filtered_data = data[data[\"Child's First Name\"].isin(selected_names)]\n",
    "#filtered_data = filtered_data.sort_values(by=\"Child's First Name\")\n",
    "sorted_data = filtered_data.sort_values(by=[\"Child's First Name\", 'Ethnicity', 'Gender'])\n",
    "sorted_data"
   ]
  },
  {
   "cell_type": "code",
   "execution_count": 32,
   "metadata": {},
   "outputs": [
    {
     "data": {
      "text/plain": [
       "Year of Birth         object\n",
       "Gender                object\n",
       "Ethnicity             object\n",
       "Child's First Name    object\n",
       "Count                  int64\n",
       "Rank                   int64\n",
       "dtype: object"
      ]
     },
     "execution_count": 32,
     "metadata": {},
     "output_type": "execute_result"
    }
   ],
   "source": [
    "data['Year of Birth'] = data['Year of Birth'].astype(str)\n",
    "data.dtypes"
   ]
  },
  {
   "cell_type": "code",
   "execution_count": 5,
   "metadata": {},
   "outputs": [
    {
     "data": {
      "image/png": "[encoded data removed]",
      "text/plain": [
       "<Figure size 800x600 with 1 Axes>"
      ]
     },
     "metadata": {},
     "output_type": "display_data"
    }
   ],
   "source": [
    "# Grouping the data by 'Child's First Name' and 'Gender' to count occurrences\n",
    "name_gender_counts = data.groupby([\"Child's First Name\", \"Gender\"]).size().reset_index(name='Count')\n",
    "\n",
    "# Filtering names that appear for both genders, only male, and only female\n",
    "both_genders = name_gender_counts[name_gender_counts.duplicated(subset=[\"Child's First Name\"], keep=False)]\n",
    "only_male = name_gender_counts[name_gender_counts.duplicated(subset=[\"Child's First Name\"], keep='first') & (name_gender_counts[\"Gender\"] == \"MALE\")]\n",
    "only_female = name_gender_counts[name_gender_counts.duplicated(subset=[\"Child's First Name\"], keep='last') & (name_gender_counts[\"Gender\"] == \"FEMALE\")]\n",
    "\n",
    "# Plotting\n",
    "plt.figure(figsize=(8, 6))\n",
    "plt.bar(1, len(both_genders), color='orange', label='Both Genders')\n",
    "plt.bar(2, len(only_male), color='blue', label='Only Male')\n",
    "plt.bar(3, len(only_female), color='red', label='Only Female')\n",
    "\n",
    "plt.xlabel('Gender Category')\n",
    "plt.ylabel('Number of Names')\n",
    "plt.title('Names by Gender Category')\n",
    "plt.xticks([1, 2, 3], ['Both Genders', 'Only Male', 'Only Female'])\n",
    "plt.legend()\n",
    "plt.tight_layout()\n",
    "plt.show()"
   ]
  },
  {
   "cell_type": "markdown",
   "metadata": {},
   "source": [
    "plot for both, only and \n",
    "if it is female and ma every year or did it change for a specific gender? ?(maybe check fr only one thnicity)"
   ]
  }
 ],
 "metadata": {
  "kernelspec": {
   "display_name": "Python 3",
   "language": "python",
   "name": "python3"
  },
  "language_info": {
   "codemirror_mode": {
    "name": "ipython",
    "version": 3
   },
   "file_extension": ".py",
   "mimetype": "text/x-python",
   "name": "python",
   "nbconvert_exporter": "python",
   "pygments_lexer": "ipython3",
   "version": "3.11.6"
  }
 },
 "nbformat": 4,
 "nbformat_minor": 2
}
